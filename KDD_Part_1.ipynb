{
  "nbformat": 4,
  "nbformat_minor": 0,
  "metadata": {
    "colab": {
      "provenance": [],
      "authorship_tag": "ABX9TyNxSTTLqzDKbjBjz5QYKyG/",
      "include_colab_link": true
    },
    "kernelspec": {
      "name": "python3",
      "display_name": "Python 3"
    },
    "language_info": {
      "name": "python"
    }
  },
  "cells": [
    {
      "cell_type": "markdown",
      "metadata": {
        "id": "view-in-github",
        "colab_type": "text"
      },
      "source": [
        "<a href=\"https://colab.research.google.com/github/IronIdkDev/IronIdkDev/blob/main/KDD_Part_1.ipynb\" target=\"_parent\"><img src=\"https://colab.research.google.com/assets/colab-badge.svg\" alt=\"Open In Colab\"/></a>"
      ]
    },
    {
      "cell_type": "markdown",
      "source": [
        "# KDD which stands for Knowledge Discovery and Data Mining\n",
        "\n",
        "Is a course being lectured in my degree in college: Computer Science and Business Management @ ISCTE"
      ],
      "metadata": {
        "id": "FKvZSGoSrxnY"
      }
    },
    {
      "cell_type": "markdown",
      "source": [
        "I created this python workbook to help me study and organize has we've been using them for our practical exercises and I decided to share this knowledge to my github page so the knowledge is spread and others can learn as well."
      ],
      "metadata": {
        "id": "7Nmxp1_XslCV"
      }
    },
    {
      "cell_type": "code",
      "execution_count": null,
      "metadata": {
        "id": "-BMJDXi4rke7"
      },
      "outputs": [],
      "source": []
    }
  ]
}